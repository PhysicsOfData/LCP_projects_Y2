{
 "cells": [
  {
   "cell_type": "markdown",
   "metadata": {},
   "source": [
    "# Local PageRank - Local similarities in the nodes of a network\n",
    "\n",
    "### Description\n",
    "\n",
    "[PageRank](https://en.wikipedia.org/wiki/PageRank) is an algorithm, originally proposed by Google’s founders Brin and Page, that assigns a numerical weighting (centrality) to each node in a network with the purpose of measuring its relative importance in the network. To do so, PageRank exploits the direct and indirect paths in the network, as well as the importance (weights) of links, in a Markov chain setting. \n",
    "\n",
    "PageRank can be personalised to detect centrality (similarity) with respect to a specific topic (i.e., a set of nodes), as opposed to the entire network. \n",
    "\n",
    "We talk of Local PageRank when the personalised PageRank is measuring centrality (similarity) with respect to a single node. Local PageRank is a local measure that can be efficiently calculated locally with controlled precision [1], i.e., without the need of surfing the entire network. \n",
    "\n",
    "Local PageRank was also used as an effective measure for clustering applications [2,3,4].\n",
    "\n",
    "\n",
    "\n",
    "[1] Andersen, Chung, Lang. 2006. Local graph partitioning using pagerank vectors. http://www.leonidzhukov.net/hse/2015/networks/papers/andersen06localgraph.pdf\n",
    "\n",
    "[2] Avrachenkov, Dobrynin, Nemirovsky, Pham, Smirnova. 2008. Pagerank based clustering of hypertext document collections. https://dl.acm.org/citation.cfm?id=1390549\n",
    "\n",
    "[3] Cho and MuLee. 2010. Authority-shift clustering: Hierarchical clustering by authority seeking on graphs. https://ieeexplore.ieee.org/document/5540081\n",
    "\n",
    "[4] Tabrizi, Shakery, Asadpour, Abbasi, Tavallaie. 2013. Personalized pagerank clustering: A graph clustering algorithm based on random walks. https://www.sciencedirect.com/science/article/pii/S0378437113006316?via%3Dihub\n",
    "\n",
    "\n",
    "\n",
    "### Assignments\n",
    "\n",
    "1. Implement a scalable procedure that for a given network, identified by its (weighted) adjacency matrix A, extracts the Local PageRank information among nodes up to a certain precision (e.g., 1%). In doing so, exploit the results of [2]. To ensure scalability, consider extracting the Local PageRank information only for those nodes which are neighbours (i.e., for which a link is active in matrix A is active), in such a way that the resulting Local PageRank information can be collected in a matrix L which is active where the adjacency matrix A is active. Incidentally observe that matrix L is sparse if A is sparse, and that L is not a symmetric matrix.\n",
    "\n",
    "2. Possibly propose ideas to speed up the algorithm (e.g., neural network approaches applied to the local network portions)\n",
    "\n",
    "3. Apply the algorithm to small and large networks, with the aim of evaluating its scalability properties. Use networks available in the web, e.g., https://snap.stanford.edu/data .\n",
    "\n",
    "4. Propose a (simple) clustering algorithm that exploits the Local PageRank matrix L, and test it on a few networks. You can take inspiration from [3,4,5] for this. Datasets for testing can be found at http://cs.joensuu.fi/sipu/datasets .\n"
   ]
  },
  {
   "cell_type": "code",
   "execution_count": null,
   "metadata": {},
   "outputs": [],
   "source": []
  }
 ],
 "metadata": {
  "kernelspec": {
   "display_name": "Python 3",
   "language": "python",
   "name": "python3"
  },
  "language_info": {
   "codemirror_mode": {
    "name": "ipython",
    "version": 3
   },
   "file_extension": ".py",
   "mimetype": "text/x-python",
   "name": "python",
   "nbconvert_exporter": "python",
   "pygments_lexer": "ipython3",
   "version": "3.5.4"
  }
 },
 "nbformat": 4,
 "nbformat_minor": 2
}
